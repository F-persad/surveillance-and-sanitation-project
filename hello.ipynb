{
 "cells": [
  {
   "cell_type": "code",
   "execution_count": 2,
   "metadata": {},
   "outputs": [],
   "source": [
    "from tkinter import *\n",
    "\n",
    "root=Tk()\n",
    "\n",
    "#label widget\n",
    "#define then place on screen\n",
    "\n",
    "#creating label widget\n",
    "myLabel1=Label(root, text=\"Hello World!\")\n",
    "myLabel2=Label(root, text=\"the text does not move when the row column method is used!\")\n",
    "\n",
    "myLabel1.grid(row=0, column=0)\n",
    "myLabel2.grid(row=1,column=0)\n",
    "\n",
    "#event loop \n",
    "root.mainloop()"
   ]
  },
  {
   "cell_type": "code",
   "execution_count": 1,
   "metadata": {},
   "outputs": [],
   "source": [
    "from tkinter import *\n",
    "\n",
    "root=Tk()\n",
    "\n",
    "#label widget\n",
    "#define then place on screen\n",
    "\n",
    "#creating label widget\n",
    "myLabel=Label(root, text=\"Hello World!\")\n",
    "\n",
    "#showing it on screen \n",
    "#using pack the text is always at the centre of window\n",
    "myLabel.pack()\n",
    "\n",
    "\n",
    "#event loop \n",
    "root.mainloop()\n"
   ]
  },
  {
   "cell_type": "code",
   "execution_count": null,
   "metadata": {},
   "outputs": [],
   "source": [
    "from tkinter import *\n",
    "\n",
    "root=Tk()\n",
    "\n",
    "#define then place on screen\n",
    "\n",
    "#creating button\n",
    "myButton=Button(root, text=\"Click me!\",padx=50)\n",
    "\n",
    "#showing it on screen \n",
    "#using pack the text is always at the centre of window\n",
    "myButton.pack()\n",
    "\n",
    "\n",
    "#event loop \n",
    "root.mainloop()"
   ]
  }
 ],
 "metadata": {
  "kernelspec": {
   "display_name": "Python 3.10.5 64-bit",
   "language": "python",
   "name": "python3"
  },
  "language_info": {
   "codemirror_mode": {
    "name": "ipython",
    "version": 3
   },
   "file_extension": ".py",
   "mimetype": "text/x-python",
   "name": "python",
   "nbconvert_exporter": "python",
   "pygments_lexer": "ipython3",
   "version": "3.10.5"
  },
  "orig_nbformat": 4,
  "vscode": {
   "interpreter": {
    "hash": "65face9ca14db16e9bf07b8a93035ec9122c77a510f8043434ab87d498f91f1d"
   }
  }
 },
 "nbformat": 4,
 "nbformat_minor": 2
}
